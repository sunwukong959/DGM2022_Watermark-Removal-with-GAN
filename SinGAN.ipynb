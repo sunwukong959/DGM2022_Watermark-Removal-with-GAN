{
 "cells": [
  {
   "cell_type": "code",
   "execution_count": null,
   "metadata": {
    "id": "cqABKJQdzT0Q",
    "pycharm": {
     "name": "#%%\n"
    }
   },
   "outputs": [],
   "source": [
    " ### Clone git repo and install relevant packages\n",
    "\n",
    "# !git clone https://github.com/tamarott/SinGAN\n",
    "\n",
    "\n",
    "# %pip install -r SinGAN/requirements.txt\n",
    "\n",
    "# %cd SinGAN\n",
    "\n",
    "!git clone -b Frederic https://github.com/sunwukong959/DGM2022_Watermark-Removal-with-GAN.git\n",
    "%cd DGM2022_Watermark-Removal-with-GAN"
   ]
  },
  {
   "cell_type": "code",
   "execution_count": null,
   "metadata": {
    "id": "YCEx-qLJF1ta",
    "pycharm": {
     "name": "#%%\n"
    }
   },
   "outputs": [],
   "source": [
    "%pip install -r SinGAN/requirements_versions.txt.txt"
   ]
  },
  {
   "cell_type": "code",
   "execution_count": null,
   "metadata": {
    "id": "AglKezht0V2g",
    "pycharm": {
     "name": "#%%\n"
    }
   },
   "outputs": [],
   "source": [
    "!python ./SinGAN/main_train.py --input_name image_0001.png --input_dir data/raw/"
   ]
  },
  {
   "cell_type": "code",
   "source": [
    "# !python editing.py --input_name tree.png --ref_name tree_edit.png --editing_start_scale 1\n",
    "!python SinGAN/editing.py --input_name image_0001.png --input_dir data/raw/ --ref_dir data/masks --ref_name image_0001.png  --editing_start_scale 8"
   ],
   "metadata": {
    "id": "CDW3TCuvUhDl",
    "pycharm": {
     "name": "#%%\n"
    }
   },
   "execution_count": null,
   "outputs": []
  },
  {
   "cell_type": "code",
   "source": [
    "# save model\n",
    "import os\n",
    "import shutil\n",
    "\n",
    "# mount to google drive\n",
    "from google.colab import drive\n",
    "drive.mount('/content/drive')\n",
    "\n",
    "# save TrainedModels\n",
    "my_drive_path = f\"/content/drive/My Drive/DGMtest\"\n",
    "colab_path = os.path.join(os.getcwd(), 'TrainedModels')\n",
    "# shutil.move(colab_path, my_drive_path)\n",
    "shutil.copytree(colab_path, my_drive_path)"
   ],
   "metadata": {
    "id": "8aCQGq5yO2RE",
    "colab": {
     "base_uri": "https://localhost:8080/",
     "height": 53
    },
    "outputId": "950dba26-7805-466c-aafd-7266b0510305",
    "pycharm": {
     "name": "#%%\n"
    }
   },
   "execution_count": null,
   "outputs": [
    {
     "output_type": "stream",
     "name": "stdout",
     "text": [
      "Drive already mounted at /content/drive; to attempt to forcibly remount, call drive.mount(\"/content/drive\", force_remount=True).\n"
     ]
    },
    {
     "output_type": "execute_result",
     "data": {
      "text/plain": [
       "'/content/drive/My Drive/DGMtest'"
      ],
      "application/vnd.google.colaboratory.intrinsic+json": {
       "type": "string"
      }
     },
     "metadata": {},
     "execution_count": 19
    }
   ]
  },
  {
   "cell_type": "code",
   "source": [
    "# load model\n",
    "import os\n",
    "import shutil\n",
    "from distutils.dir_util import copy_tree\n",
    "\n",
    "# mount to google drive\n",
    "from google.colab import drive\n",
    "drive.mount('/content/drive')\n",
    "\n",
    "# load TrainedModels\n",
    "my_drive_path = f\"/content/drive/My Drive/DGM/TrainedModels\"\n",
    "colab_path = os.path.join(os.getcwd(), 'TrainedModels')\n",
    "shutil.copytree(my_drive_path, colab_path)"
   ],
   "metadata": {
    "id": "3VWqCXY2ROFE",
    "pycharm": {
     "name": "#%%\n"
    }
   },
   "execution_count": null,
   "outputs": []
  },
  {
   "cell_type": "code",
   "execution_count": null,
   "metadata": {
    "id": "iMFjpyyDzdP6",
    "pycharm": {
     "name": "#%%\n"
    }
   },
   "outputs": [],
   "source": [
    "%ls Output/Editing/image_0001/"
   ]
  },
  {
   "cell_type": "code",
   "source": [
    "# save Output\n",
    "import os\n",
    "import shutil\n",
    "\n",
    "# mount to google drive\n",
    "from google.colab import drive\n",
    "drive.mount('/content/drive')\n",
    "\n",
    "# save Output\n",
    "my_drive_path = f\"/content/drive/My Drive/DGMtest\"\n",
    "colab_path = os.path.join(os.getcwd(), 'Output', 'Editing', 'image_0001')\n",
    "shutil.move(colab_path, my_drive_path)"
   ],
   "metadata": {
    "id": "vrEXT0cJYsPs",
    "pycharm": {
     "name": "#%%\n"
    }
   },
   "execution_count": null,
   "outputs": []
  },
  {
   "cell_type": "code",
   "execution_count": null,
   "metadata": {
    "id": "4AkNeG0j0zPY",
    "pycharm": {
     "name": "#%%\n"
    }
   },
   "outputs": [],
   "source": [
    "%cd DGM2022_Watermark-Removal-with-GAN"
   ]
  },
  {
   "cell_type": "code",
   "execution_count": null,
   "metadata": {
    "id": "xXb-vQ-N0B94",
    "pycharm": {
     "name": "#%%\n"
    }
   },
   "outputs": [],
   "source": [
    "%rm -r TrainedModels"
   ]
  },
  {
   "cell_type": "code",
   "source": [
    "%ls"
   ],
   "metadata": {
    "id": "RHnH5LGjvhKD",
    "pycharm": {
     "name": "#%%\n"
    }
   },
   "execution_count": null,
   "outputs": []
  }
 ],
 "metadata": {
  "accelerator": "GPU",
  "colab": {
   "collapsed_sections": [],
   "name": "SinGAN.ipynb",
   "provenance": []
  },
  "gpuClass": "standard",
  "kernelspec": {
   "display_name": "Python 3",
   "name": "python3"
  },
  "language_info": {
   "name": "python"
  }
 },
 "nbformat": 4,
 "nbformat_minor": 0
}